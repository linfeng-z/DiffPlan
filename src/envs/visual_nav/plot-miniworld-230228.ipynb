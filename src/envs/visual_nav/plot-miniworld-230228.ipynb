{
 "cells": [
  {
   "cell_type": "code",
   "execution_count": 1,
   "outputs": [],
   "source": [
    "%load_ext autoreload\n",
    "%autoreload 2"
   ],
   "metadata": {
    "collapsed": false
   }
  },
  {
   "cell_type": "code",
   "execution_count": 2,
   "outputs": [
    {
     "data": {
      "text/plain": "'/Users/zlf/ProjectsRemote/2022-DEPlan/DiffPlanLib/envs/visual_nav'"
     },
     "execution_count": 2,
     "metadata": {},
     "output_type": "execute_result"
    }
   ],
   "source": [
    "%pwd"
   ],
   "metadata": {
    "collapsed": false
   }
  },
  {
   "cell_type": "code",
   "execution_count": 3,
   "outputs": [
    {
     "name": "stdout",
     "output_type": "stream",
     "text": [
      "/Users/zlf/ProjectsRemote/2022-DEPlan/DiffPlanLib\n"
     ]
    }
   ],
   "source": [
    "# %cd '/mnt/Z-LabData-6T/zlf-nfs-hdd/projects/2022-DEPlan/DiffPlanLib'\n",
    "%cd '/Users/zlf/ProjectsRemote/2022-DEPlan/DiffPlanLib/'"
   ],
   "metadata": {
    "collapsed": false
   }
  },
  {
   "cell_type": "code",
   "execution_count": 3,
   "outputs": [],
   "source": [],
   "metadata": {
    "collapsed": false
   }
  },
  {
   "cell_type": "code",
   "execution_count": 4,
   "outputs": [],
   "source": [
    "%matplotlib inline\n",
    "from IPython import display"
   ],
   "metadata": {
    "collapsed": false
   }
  },
  {
   "cell_type": "markdown",
   "source": [
    "# import"
   ],
   "metadata": {
    "collapsed": false
   }
  },
  {
   "cell_type": "code",
   "execution_count": 5,
   "outputs": [
    {
     "data": {
      "text/plain": "<Figure size 432x288 with 1 Axes>",
      "image/png": "[encoded data removed]"
     },
     "metadata": {
      "needs_background": "light"
     },
     "output_type": "display_data"
    }
   ],
   "source": [
    "import matplotlib.pyplot as plt\n",
    "import matplotlib\n",
    "import seaborn as sns\n",
    "\n",
    "plt.axis('off')\n",
    "# sns.set()\n",
    "# sns.set_palette('pastel')\n",
    "sns.set_palette('deep')\n",
    "matplotlib.rc_file_defaults()"
   ],
   "metadata": {
    "collapsed": false
   }
  },
  {
   "cell_type": "code",
   "execution_count": 5,
   "outputs": [],
   "source": [],
   "metadata": {
    "collapsed": false
   }
  },
  {
   "cell_type": "markdown",
   "source": [
    "# test texture"
   ],
   "metadata": {
    "collapsed": false
   }
  },
  {
   "cell_type": "code",
   "execution_count": 6,
   "outputs": [],
   "source": [
    "from envs.maze_env import generate_maze"
   ],
   "metadata": {
    "collapsed": false
   }
  },
  {
   "cell_type": "code",
   "execution_count": 7,
   "outputs": [],
   "source": [
    "maze = generate_maze(7, 0)"
   ],
   "metadata": {
    "collapsed": false
   }
  },
  {
   "cell_type": "code",
   "execution_count": 7,
   "outputs": [],
   "source": [],
   "metadata": {
    "collapsed": false
   }
  },
  {
   "cell_type": "code",
   "execution_count": 8,
   "outputs": [],
   "source": [
    "from envs.visual_nav.nav_wrapper import MazeNavWorld"
   ],
   "metadata": {
    "collapsed": false
   }
  },
  {
   "cell_type": "code",
   "execution_count": 9,
   "outputs": [
    {
     "name": "stdout",
     "output_type": "stream",
     "text": [
      "Falling back to num_samples=4\n",
      "Falling back to non-multisampled frame buffer\n",
      "Falling back to num_samples=4\n",
      "Falling back to non-multisampled frame buffer\n"
     ]
    },
    {
     "name": "stderr",
     "output_type": "stream",
     "text": [
      "/opt/homebrew/Caskroom/miniforge/base/lib/python3.9/site-packages/gym/utils/seeding.py:47: DeprecationWarning: \u001B[33mWARN: Function `rng.randint(low, [high, size, dtype])` is marked as deprecated and will be removed in the future. Please use `rng.integers(low, [high, size, dtype])` instead.\u001B[0m\n",
      "  deprecation(\n"
     ]
    }
   ],
   "source": [
    "env = MazeNavWorld(maze_map=maze, domain_rand=True, obs_width=64, obs_height=64)"
   ],
   "metadata": {
    "collapsed": false
   }
  },
  {
   "cell_type": "code",
   "execution_count": 9,
   "outputs": [],
   "source": [],
   "metadata": {
    "collapsed": false
   }
  },
  {
   "cell_type": "markdown",
   "source": [
    "# visualize world"
   ],
   "metadata": {
    "collapsed": false
   }
  },
  {
   "cell_type": "code",
   "execution_count": 10,
   "outputs": [
    {
     "data": {
      "text/plain": "<matplotlib.image.AxesImage at 0x291bea310>"
     },
     "execution_count": 10,
     "metadata": {},
     "output_type": "execute_result"
    },
    {
     "data": {
      "text/plain": "<Figure size 640x480 with 1 Axes>",
      "image/png": "[encoded data removed]"
     },
     "metadata": {},
     "output_type": "display_data"
    }
   ],
   "source": [
    "plt.imshow(env.reset())\n",
    "# plt.axis('off')"
   ],
   "metadata": {
    "collapsed": false
   }
  },
  {
   "cell_type": "code",
   "execution_count": 10,
   "outputs": [],
   "source": [],
   "metadata": {
    "collapsed": false
   }
  },
  {
   "cell_type": "code",
   "execution_count": 10,
   "outputs": [],
   "source": [],
   "metadata": {
    "collapsed": false
   }
  },
  {
   "cell_type": "markdown",
   "source": [
    "# render all"
   ],
   "metadata": {
    "collapsed": false
   }
  },
  {
   "cell_type": "code",
   "execution_count": 11,
   "outputs": [
    {
     "name": "stdout",
     "output_type": "stream",
     "text": [
      "(Debug) position = [1.5 0.  1.5], orientation = 1.5707963267948966\n",
      "(Debug) position = [1.5 0.  1.5], orientation = 0.0\n",
      "(Debug) position = [1.5 0.  1.5], orientation = 4.71238898038469\n",
      "(Debug) position = [1.5 0.  1.5], orientation = 3.141592653589793\n",
      "(Debug) position = [2.5 0.  1.5], orientation = 1.5707963267948966\n",
      "(Debug) position = [2.5 0.  1.5], orientation = 0.0\n",
      "(Debug) position = [2.5 0.  1.5], orientation = 4.71238898038469\n",
      "(Debug) position = [2.5 0.  1.5], orientation = 3.141592653589793\n",
      "(Debug) position = [3.5 0.  1.5], orientation = 1.5707963267948966\n",
      "(Debug) position = [3.5 0.  1.5], orientation = 0.0\n",
      "(Debug) position = [3.5 0.  1.5], orientation = 4.71238898038469\n",
      "(Debug) position = [3.5 0.  1.5], orientation = 3.141592653589793\n",
      "(Debug) position = [5.5 0.  1.5], orientation = 1.5707963267948966\n",
      "(Debug) position = [5.5 0.  1.5], orientation = 0.0\n",
      "(Debug) position = [5.5 0.  1.5], orientation = 4.71238898038469\n",
      "(Debug) position = [5.5 0.  1.5], orientation = 3.141592653589793\n",
      "(Debug) position = [3.5 0.  2.5], orientation = 1.5707963267948966\n",
      "(Debug) position = [3.5 0.  2.5], orientation = 0.0\n",
      "(Debug) position = [3.5 0.  2.5], orientation = 4.71238898038469\n",
      "(Debug) position = [3.5 0.  2.5], orientation = 3.141592653589793\n",
      "(Debug) position = [5.5 0.  2.5], orientation = 1.5707963267948966\n",
      "(Debug) position = [5.5 0.  2.5], orientation = 0.0\n",
      "(Debug) position = [5.5 0.  2.5], orientation = 4.71238898038469\n",
      "(Debug) position = [5.5 0.  2.5], orientation = 3.141592653589793\n",
      "(Debug) position = [1.5 0.  3.5], orientation = 1.5707963267948966\n",
      "(Debug) position = [1.5 0.  3.5], orientation = 0.0\n",
      "(Debug) position = [1.5 0.  3.5], orientation = 4.71238898038469\n",
      "(Debug) position = [1.5 0.  3.5], orientation = 3.141592653589793\n",
      "(Debug) position = [3.5 0.  3.5], orientation = 1.5707963267948966\n",
      "(Debug) position = [3.5 0.  3.5], orientation = 0.0\n",
      "(Debug) position = [3.5 0.  3.5], orientation = 4.71238898038469\n",
      "(Debug) position = [3.5 0.  3.5], orientation = 3.141592653589793\n",
      "(Debug) position = [4.5 0.  3.5], orientation = 1.5707963267948966\n",
      "(Debug) position = [4.5 0.  3.5], orientation = 0.0\n",
      "(Debug) position = [4.5 0.  3.5], orientation = 4.71238898038469\n",
      "(Debug) position = [4.5 0.  3.5], orientation = 3.141592653589793\n",
      "(Debug) position = [5.5 0.  3.5], orientation = 1.5707963267948966\n",
      "(Debug) position = [5.5 0.  3.5], orientation = 0.0\n",
      "(Debug) position = [5.5 0.  3.5], orientation = 4.71238898038469\n",
      "(Debug) position = [5.5 0.  3.5], orientation = 3.141592653589793\n",
      "(Debug) position = [1.5 0.  4.5], orientation = 1.5707963267948966\n",
      "(Debug) position = [1.5 0.  4.5], orientation = 0.0\n",
      "(Debug) position = [1.5 0.  4.5], orientation = 4.71238898038469\n",
      "(Debug) position = [1.5 0.  4.5], orientation = 3.141592653589793\n",
      "(Debug) position = [5.5 0.  4.5], orientation = 1.5707963267948966\n",
      "(Debug) position = [5.5 0.  4.5], orientation = 0.0\n",
      "(Debug) position = [5.5 0.  4.5], orientation = 4.71238898038469\n",
      "(Debug) position = [5.5 0.  4.5], orientation = 3.141592653589793\n",
      "(Debug) position = [1.5 0.  5.5], orientation = 1.5707963267948966\n",
      "(Debug) position = [1.5 0.  5.5], orientation = 0.0\n",
      "(Debug) position = [1.5 0.  5.5], orientation = 4.71238898038469\n",
      "(Debug) position = [1.5 0.  5.5], orientation = 3.141592653589793\n",
      "(Debug) position = [2.5 0.  5.5], orientation = 1.5707963267948966\n",
      "(Debug) position = [2.5 0.  5.5], orientation = 0.0\n",
      "(Debug) position = [2.5 0.  5.5], orientation = 4.71238898038469\n",
      "(Debug) position = [2.5 0.  5.5], orientation = 3.141592653589793\n",
      "(Debug) position = [3.5 0.  5.5], orientation = 1.5707963267948966\n",
      "(Debug) position = [3.5 0.  5.5], orientation = 0.0\n",
      "(Debug) position = [3.5 0.  5.5], orientation = 4.71238898038469\n",
      "(Debug) position = [3.5 0.  5.5], orientation = 3.141592653589793\n",
      "(Debug) position = [4.5 0.  5.5], orientation = 1.5707963267948966\n",
      "(Debug) position = [4.5 0.  5.5], orientation = 0.0\n",
      "(Debug) position = [4.5 0.  5.5], orientation = 4.71238898038469\n",
      "(Debug) position = [4.5 0.  5.5], orientation = 3.141592653589793\n",
      "(Debug) position = [5.5 0.  5.5], orientation = 1.5707963267948966\n",
      "(Debug) position = [5.5 0.  5.5], orientation = 0.0\n",
      "(Debug) position = [5.5 0.  5.5], orientation = 4.71238898038469\n",
      "(Debug) position = [5.5 0.  5.5], orientation = 3.141592653589793\n"
     ]
    }
   ],
   "source": [
    "pos2pano, pos2top = env.get_all_pano(vis_top=True)"
   ],
   "metadata": {
    "collapsed": false
   }
  },
  {
   "cell_type": "code",
   "execution_count": 12,
   "outputs": [
    {
     "data": {
      "text/plain": "(7, 7, 4, 64, 64, 3)"
     },
     "execution_count": 12,
     "metadata": {},
     "output_type": "execute_result"
    }
   ],
   "source": [
    "pos2pano.shape"
   ],
   "metadata": {
    "collapsed": false
   }
  },
  {
   "cell_type": "code",
   "execution_count": 12,
   "outputs": [],
   "source": [],
   "metadata": {
    "collapsed": false
   }
  },
  {
   "cell_type": "code",
   "execution_count": 13,
   "outputs": [
    {
     "data": {
      "text/plain": "<matplotlib.image.AxesImage at 0x291c2e9a0>"
     },
     "execution_count": 13,
     "metadata": {},
     "output_type": "execute_result"
    },
    {
     "data": {
      "text/plain": "<Figure size 640x480 with 1 Axes>",
      "image/png": "[encoded data removed]"
     },
     "metadata": {},
     "output_type": "display_data"
    }
   ],
   "source": [
    "plt.imshow(maze, cmap='Blues_r')\n",
    "# plt.axis('off')"
   ],
   "metadata": {
    "collapsed": false
   }
  },
  {
   "cell_type": "code",
   "execution_count": 13,
   "outputs": [],
   "source": [],
   "metadata": {
    "collapsed": false
   }
  },
  {
   "cell_type": "markdown",
   "source": [
    "# test visualization"
   ],
   "metadata": {
    "collapsed": false
   }
  },
  {
   "cell_type": "code",
   "execution_count": 14,
   "outputs": [],
   "source": [
    "from utils.vis_visual_nav import render_all_ego_obs, setup_interactive_ego_obs, run_pano_obs"
   ],
   "metadata": {
    "collapsed": false
   }
  },
  {
   "cell_type": "code",
   "execution_count": 15,
   "outputs": [],
   "source": [
    "# run_pano_obs(map_img=maze_map, all_obs=pano_obs)"
   ],
   "metadata": {
    "collapsed": false
   }
  },
  {
   "cell_type": "code",
   "execution_count": 16,
   "outputs": [],
   "source": [
    "pos2obs_src = render_all_ego_obs(pos2pano=pos2pano, pos2top=pos2top)"
   ],
   "metadata": {
    "collapsed": false
   }
  },
  {
   "cell_type": "code",
   "execution_count": 17,
   "outputs": [
    {
     "name": "stderr",
     "output_type": "stream",
     "text": [
      "/opt/homebrew/Caskroom/miniforge/base/lib/python3.9/site-packages/plotly/express/_imshow.py:354: DeprecationWarning: `np.bool` is a deprecated alias for the builtin `bool`. To silence this warning, use `bool` by itself. Doing this will not modify any behavior and is safe. If you specifically wanted the numpy scalar type, use `np.bool_` here.\n",
      "Deprecated in NumPy 1.20; for more details and guidance: https://numpy.org/devdocs/release/1.20.0-notes.html#deprecations\n",
      "  if img.dtype == np.bool:\n"
     ]
    }
   ],
   "source": [
    "# >>> note - using transpose version works?\n",
    "app = setup_interactive_ego_obs(\n",
    "    map_img=maze,\n",
    "    pos2obs_src=pos2obs_src\n",
    ")"
   ],
   "metadata": {
    "collapsed": false
   }
  },
  {
   "cell_type": "code",
   "execution_count": 18,
   "outputs": [
    {
     "data": {
      "text/plain": "<IPython.lib.display.IFrame at 0x29de789d0>",
      "text/html": "\n        <iframe\n            width=\"100%\"\n            height=\"650\"\n            src=\"http://127.0.0.1:8053/\"\n            frameborder=\"0\"\n            allowfullscreen\n            \n        ></iframe>\n        "
     },
     "metadata": {},
     "output_type": "display_data"
    }
   ],
   "source": [
    "app.run_server(debug=True, mode='inline', port=8053)"
   ],
   "metadata": {
    "collapsed": false
   }
  },
  {
   "cell_type": "code",
   "execution_count": null,
   "outputs": [],
   "source": [],
   "metadata": {
    "collapsed": false
   }
  }
 ],
 "metadata": {
  "kernelspec": {
   "display_name": "Python 3",
   "language": "python",
   "name": "python3"
  },
  "language_info": {
   "codemirror_mode": {
    "name": "ipython",
    "version": 2
   },
   "file_extension": ".py",
   "mimetype": "text/x-python",
   "name": "python",
   "nbconvert_exporter": "python",
   "pygments_lexer": "ipython2",
   "version": "2.7.6"
  }
 },
 "nbformat": 4,
 "nbformat_minor": 0
}
